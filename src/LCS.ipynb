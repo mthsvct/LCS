{
 "cells": [
  {
   "cell_type": "code",
   "execution_count": 96,
   "metadata": {},
   "outputs": [],
   "source": [
    "class LCS():\n",
    "\n",
    "    def __init__(self, w, w2):\n",
    "        self.palavra1 = w\n",
    "        self.palavra2 = w2\n",
    "        self.tabela = []\n",
    "        self.caracteres = []\n",
    "        self.sequencia()\n",
    "    \n",
    "    def sequencia(self):\n",
    "        self.montaTabela()\n",
    "        self.contar()\n",
    "        self.procuraCar()\n",
    "        self.apresentaTabela()\n",
    "        self.apresenta()\n",
    "\n",
    "    def montaTabela(self):\n",
    "        for i in range(len(self.palavra1)+1):\n",
    "            k = 0\n",
    "            novo = []\n",
    "            for j in range(len(self.palavra2)+1):\n",
    "                novo.append([0, ' '])\n",
    "                k += 1\n",
    "            self.tabela.append(novo)\n",
    "    \n",
    "    def contar(self):\n",
    "        for i in range(1, len(self.tabela)):\n",
    "            for j in range(len(self.palavra2)+1):\n",
    "                if j > 0:\n",
    "\n",
    "                    if self.palavra1[i-1] == self.palavra2[j-1]:\n",
    "                        # EH IGUAL!!!!!\n",
    "                        self.tabela[i][j][0] = self.tabela[i-1][j-1][0] + 1\n",
    "                        self.tabela[i][j][1] = 'd'\n",
    "                        self.tabela[i][j].append(self.palavra1[i-1])\n",
    "\n",
    "                    elif self.tabela[i-1][j][0] >= self.tabela[i][j-1][0]:\n",
    "                        self.tabela[i][j][0] = self.tabela[i-1][j][0]\n",
    "                        self.tabela[i][j][1] = 'c'\n",
    "\n",
    "                    elif self.tabela[i-1][j][0] <= self.tabela[i][j-1][0]:\n",
    "                        self.tabela[i][j][0] = self.tabela[i][j-1][0]\n",
    "                        self.tabela[i][j][1] = 'l'\n",
    "\n",
    "    def procuraCar(self):\n",
    "        i = len(self.tabela)-1\n",
    "        j = len(self.tabela[0])-1\n",
    "\n",
    "        car = []\n",
    "\n",
    "        while( self.tabela[i][j][1] != ' ' ):\n",
    "\n",
    "            if self.tabela[i][j][1] == 'd':\n",
    "                car.append({'caractere': self.tabela[i][j][2], 'localizacao': [i, j]})\n",
    "                i -= 1\n",
    "                j -= 1\n",
    "            elif self.tabela[i][j][1] == 'c':\n",
    "                i -= 1\n",
    "            elif self.tabela[i][j][1] == 'l':\n",
    "                j -= 1\n",
    "        \n",
    "        self.caracteres = car\n",
    "\n",
    "    def apresentaTabela(self):\n",
    "        print('    0  ', end='')\n",
    "        \n",
    "        for k in range(len(self.palavra2)):\n",
    "            print(self.palavra2[k], end='  ')\n",
    "        \n",
    "        \n",
    "        print()\n",
    "        print('  ', '-'*len(self.palavra2)*4)\n",
    "        \n",
    "        for i in range(len(self.tabela)):\n",
    "            print('0', end=' | ') if i == 0 else print(self.palavra1[i-1], end=' | ')\n",
    "            for j in range(len(self.tabela[i])):\n",
    "                print(self.tabela[i][j][0], end='  ')\n",
    "            print()\n",
    "        \n",
    "        print('  ', '-'*len(self.palavra2)*4)\n",
    "\n",
    "    def apresenta(self):\n",
    "        print('Caracteres selecionados:............{', end='')\n",
    "        for i in self.caracteres:\n",
    "            print(i['caractere'], end=',')\n",
    "        print('}')"
   ]
  },
  {
   "cell_type": "code",
   "execution_count": 97,
   "metadata": {},
   "outputs": [
    {
     "name": "stdout",
     "output_type": "stream",
     "text": [
      "    0  m  o  s  q  u  i  t  e  i  r  o  \n",
      "   --------------------------------------------\n",
      "0 | 0  0  0  0  0  0  0  0  0  0  0  0  \n",
      "n | 0  0  0  0  0  0  0  0  0  0  0  0  \n",
      "o | 0  0  1  1  1  1  1  1  1  1  1  1  \n",
      "r | 0  0  1  1  1  1  1  1  1  1  2  2  \n",
      "t | 0  0  1  1  1  1  1  2  2  2  2  2  \n",
      "u | 0  0  1  1  1  2  2  2  2  2  2  2  \n",
      "r | 0  0  1  1  1  2  2  2  2  2  3  3  \n",
      "n | 0  0  1  1  1  2  2  2  2  2  3  3  \n",
      "o | 0  0  1  1  1  2  2  2  2  2  3  4  \n",
      "   --------------------------------------------\n",
      "Caracteres selecionados:............{o,r,t,o,}\n"
     ]
    },
    {
     "data": {
      "text/plain": [
       "<__main__.LCS at 0x7fef9878d670>"
      ]
     },
     "execution_count": 97,
     "metadata": {},
     "output_type": "execute_result"
    }
   ],
   "source": [
    "LCS('norturno', 'mosquiteiro')"
   ]
  },
  {
   "cell_type": "code",
   "execution_count": 98,
   "metadata": {},
   "outputs": [
    {
     "name": "stdout",
     "output_type": "stream",
     "text": [
      "    0  a  r  a  r  a  \n",
      "   --------------------\n",
      "0 | 0  0  0  0  0  0  \n",
      "a | 0  1  1  1  1  1  \n",
      "r | 0  1  2  2  2  2  \n",
      "a | 0  1  2  3  3  3  \n",
      "n | 0  1  2  3  3  3  \n",
      "h | 0  1  2  3  3  3  \n",
      "a | 0  1  2  3  3  4  \n",
      "   --------------------\n",
      "Caracteres selecionados:............{a,a,r,a,}\n"
     ]
    },
    {
     "data": {
      "text/plain": [
       "<__main__.LCS at 0x7fef7eb8b580>"
      ]
     },
     "execution_count": 98,
     "metadata": {},
     "output_type": "execute_result"
    }
   ],
   "source": [
    "LCS('aranha', 'arara')"
   ]
  },
  {
   "cell_type": "code",
   "execution_count": 101,
   "metadata": {},
   "outputs": [
    {
     "name": "stdout",
     "output_type": "stream",
     "text": [
      "    0  f  g  h  i  j  \n",
      "   --------------------\n",
      "0 | 0  0  0  0  0  0  \n",
      "a | 0  0  0  0  0  0  \n",
      "b | 0  0  0  0  0  0  \n",
      "c | 0  0  0  0  0  0  \n",
      "d | 0  0  0  0  0  0  \n",
      "e | 0  0  0  0  0  0  \n",
      "   --------------------\n",
      "Caracteres selecionados:............{}\n"
     ]
    },
    {
     "data": {
      "text/plain": [
       "<__main__.LCS at 0x7fef7ebcf490>"
      ]
     },
     "execution_count": 101,
     "metadata": {},
     "output_type": "execute_result"
    }
   ],
   "source": [
    "LCS('abcde', 'fghij')"
   ]
  },
  {
   "cell_type": "code",
   "execution_count": 102,
   "metadata": {},
   "outputs": [
    {
     "name": "stdout",
     "output_type": "stream",
     "text": [
      "    0  p  a  s  t  a  \n",
      "   --------------------\n",
      "0 | 0  0  0  0  0  0  \n",
      "p | 0  1  1  1  1  1  \n",
      "a | 0  1  2  2  2  2  \n",
      "s | 0  1  2  3  3  3  \n",
      "t | 0  1  2  3  4  4  \n",
      "a | 0  1  2  3  4  5  \n",
      "   --------------------\n",
      "Caracteres selecionados:............{a,t,s,a,p,}\n"
     ]
    },
    {
     "data": {
      "text/plain": [
       "<__main__.LCS at 0x7fef7eb911c0>"
      ]
     },
     "execution_count": 102,
     "metadata": {},
     "output_type": "execute_result"
    }
   ],
   "source": [
    "LCS('pasta', 'pasta')"
   ]
  },
  {
   "cell_type": "code",
   "execution_count": null,
   "metadata": {},
   "outputs": [],
   "source": [
    " "
   ]
  }
 ],
 "metadata": {
  "interpreter": {
   "hash": "916dbcbb3f70747c44a77c7bcd40155683ae19c65e1c03b4aa3499c5328201f1"
  },
  "kernelspec": {
   "display_name": "Python 3.8.10 64-bit",
   "language": "python",
   "name": "python3"
  },
  "language_info": {
   "codemirror_mode": {
    "name": "ipython",
    "version": 3
   },
   "file_extension": ".py",
   "mimetype": "text/x-python",
   "name": "python",
   "nbconvert_exporter": "python",
   "pygments_lexer": "ipython3",
   "version": "3.8.10"
  },
  "orig_nbformat": 4
 },
 "nbformat": 4,
 "nbformat_minor": 2
}
